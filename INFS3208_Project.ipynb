{
 "cells": [
  {
   "cell_type": "code",
   "execution_count": 1,
   "metadata": {
    "id": "zAOnmHJZzbWx"
   },
   "outputs": [],
   "source": [
    "from pyspark import SparkConf\n",
    "from pyspark.sql import SparkSession\n",
    "from pyspark.context import SparkContext\n",
    "import pyspark.sql.functions as func\n",
    "from pyspark.sql.types import *\n",
    "import pandas as pd\n",
    "import matplotlib.pyplot as plt"
   ]
  },
  {
   "cell_type": "code",
   "execution_count": 2,
   "metadata": {
    "id": "6ZIxrfUbzkE9"
   },
   "outputs": [],
   "source": [
    "spark = SparkSession.builder.master(\"local[*]\").getOrCreate()"
   ]
  },
  {
   "cell_type": "code",
   "execution_count": 3,
   "metadata": {},
   "outputs": [],
   "source": [
    "schema = StructType([StructField(\"country\",StringType(),True),\\\n",
    "                    StructField(\"year\",IntegerType(),True),\\\n",
    "                    StructField(\"sex\",StringType(),True),\\\n",
    "                    StructField(\"age\",StringType(),True),\\\n",
    "                    StructField(\"suicides_no\",IntegerType(),True),\\\n",
    "                    StructField(\"population\",IntegerType(),True)])"
   ]
  },
  {
   "cell_type": "markdown",
   "metadata": {
    "id": "g5SYzDIP7mdy"
   },
   "source": [
    "DATA EXPLORATION AND PRE-PROCESSING"
   ]
  },
  {
   "cell_type": "code",
   "execution_count": 4,
   "metadata": {
    "colab": {
     "base_uri": "https://localhost:8080/"
    },
    "id": "3xJ_9jG22q5M",
    "outputId": "635c82c6-60ff-4953-d27f-cbf61cb981b1"
   },
   "outputs": [],
   "source": [
    "suicides_df = spark.read.format(\"csv\").option(\"header\",\"true\").schema(schema).load(\"hdfs://namenode:9000/project/dataset.csv\")"
   ]
  },
  {
   "cell_type": "code",
   "execution_count": 5,
   "metadata": {
    "colab": {
     "base_uri": "https://localhost:8080/"
    },
    "id": "CYFtpovx7CcS",
    "outputId": "8c83bde2-1e3a-4c5d-a23a-09eb6f86732f"
   },
   "outputs": [
    {
     "name": "stdout",
     "output_type": "stream",
     "text": [
      "+-------+--------+------------------+------+-----------+-----------------+------------------+\n",
      "|summary| country|              year|   sex|        age|      suicides_no|        population|\n",
      "+-------+--------+------------------+------+-----------+-----------------+------------------+\n",
      "|  count|   43776|             43776| 43776|      43776|            41520|             38316|\n",
      "|   mean|    null|1998.5024671052631|  null|       null|193.3153901734104|1664091.1353742562|\n",
      "| stddev|    null|10.338711176746282|  null|       null|800.5899259349637|3647231.2274873867|\n",
      "|    min| Albania|              1979|female|15-24 years|                0|               259|\n",
      "|    max|Zimbabwe|              2016|  male|  75+ years|            22338|          43805214|\n",
      "+-------+--------+------------------+------+-----------+-----------------+------------------+\n",
      "\n"
     ]
    }
   ],
   "source": [
    "suicides_df.describe().show()"
   ]
  },
  {
   "cell_type": "code",
   "execution_count": 6,
   "metadata": {
    "colab": {
     "base_uri": "https://localhost:8080/"
    },
    "id": "r7hSlaLX7cNb",
    "outputId": "50df3864-5b9d-4b77-c8f2-f8201f848083"
   },
   "outputs": [
    {
     "name": "stdout",
     "output_type": "stream",
     "text": [
      "root\n",
      " |-- country: string (nullable = true)\n",
      " |-- year: integer (nullable = true)\n",
      " |-- sex: string (nullable = true)\n",
      " |-- age: string (nullable = true)\n",
      " |-- suicides_no: integer (nullable = true)\n",
      " |-- population: integer (nullable = true)\n",
      "\n"
     ]
    }
   ],
   "source": [
    "suicides_df.printSchema()"
   ]
  },
  {
   "cell_type": "code",
   "execution_count": 7,
   "metadata": {
    "colab": {
     "base_uri": "https://localhost:8080/"
    },
    "id": "9Fs00F1w2rQz",
    "outputId": "59a679a3-59b1-4e33-d7a3-c0345ca12803"
   },
   "outputs": [
    {
     "name": "stdout",
     "output_type": "stream",
     "text": [
      "+----------+\n",
      "|sum(count)|\n",
      "+----------+\n",
      "|      null|\n",
      "+----------+\n",
      "\n"
     ]
    }
   ],
   "source": [
    "#COUNTING DUPLICATE ROWS\n",
    "suicides_df.groupBy(suicides_df.columns).count().where(func.col('count')>1).select(func.sum('count')).show()"
   ]
  },
  {
   "cell_type": "code",
   "execution_count": 8,
   "metadata": {
    "colab": {
     "base_uri": "https://localhost:8080/"
    },
    "id": "F1aEE3U12uBg",
    "outputId": "730ae102-3f0f-41b4-8a89-2d8bd953dbf7"
   },
   "outputs": [],
   "source": [
    "#DROPPING NULL VALUES\n",
    "suicides_df = suicides_df.dropna('any')"
   ]
  },
  {
   "cell_type": "code",
   "execution_count": 9,
   "metadata": {
    "id": "FkF-c5JWAaRp"
   },
   "outputs": [],
   "source": [
    "#CREATING TABLE FROM DATAFRAME\n",
    "suicides_df.createOrReplaceTempView(\"Suicides\")"
   ]
  },
  {
   "cell_type": "code",
   "execution_count": 10,
   "metadata": {
    "colab": {
     "base_uri": "https://localhost:8080/"
    },
    "id": "Vk-TlHiv2ugv",
    "outputId": "51212c05-0781-44d2-8147-ab7995873d2b"
   },
   "outputs": [
    {
     "name": "stdout",
     "output_type": "stream",
     "text": [
      "+-----------------------+\n",
      "|count(DISTINCT country)|\n",
      "+-----------------------+\n",
      "|                    118|\n",
      "+-----------------------+\n",
      "\n"
     ]
    }
   ],
   "source": [
    "#COUNTING NUMBER OF COUNTRIES\n",
    "spark.sql(\"SELECT COUNT(DISTINCT country) FROM Suicides\").show()"
   ]
  },
  {
   "cell_type": "markdown",
   "metadata": {
    "id": "vZPP3VzbBUsx"
   },
   "source": [
    "QUERIES (ALONG WITH VISUALIZATION)"
   ]
  },
  {
   "cell_type": "code",
   "execution_count": 11,
   "metadata": {
    "colab": {
     "base_uri": "https://localhost:8080/"
    },
    "id": "F2AI8IvaCini",
    "outputId": "715d4a8d-9001-4eda-881d-1dc5cbfe7dc6"
   },
   "outputs": [
    {
     "name": "stdout",
     "output_type": "stream",
     "text": [
      "+-------+----+------+-----------+-----------+----------+\n",
      "|country|year|   sex|        age|suicides_no|population|\n",
      "+-------+----+------+-----------+-----------+----------+\n",
      "|Albania|1987|female|15-24 years|         14|    289700|\n",
      "|Albania|1987|female|25-34 years|          4|    257200|\n",
      "|Albania|1987|female|35-54 years|          6|    278800|\n",
      "|Albania|1987|female| 5-14 years|          0|    311000|\n",
      "|Albania|1987|female|55-74 years|          0|    144600|\n",
      "|Albania|1987|female|  75+ years|          1|     35600|\n",
      "|Albania|1987|  male|15-24 years|         21|    312900|\n",
      "|Albania|1987|  male|25-34 years|          9|    274300|\n",
      "|Albania|1987|  male|35-54 years|         16|    308000|\n",
      "|Albania|1987|  male| 5-14 years|          0|    338200|\n",
      "|Albania|1987|  male|55-74 years|          1|    137500|\n",
      "|Albania|1987|  male|  75+ years|          1|     21800|\n",
      "|Albania|1988|female|15-24 years|          8|    295600|\n",
      "|Albania|1988|female|25-34 years|          5|    262400|\n",
      "|Albania|1988|female|35-54 years|          4|    284500|\n",
      "|Albania|1988|female| 5-14 years|          0|    317200|\n",
      "|Albania|1988|female|55-74 years|          3|    147500|\n",
      "|Albania|1988|female|  75+ years|          2|     36400|\n",
      "|Albania|1988|  male|15-24 years|         17|    319200|\n",
      "|Albania|1988|  male|25-34 years|          5|    279900|\n",
      "+-------+----+------+-----------+-----------+----------+\n",
      "only showing top 20 rows\n",
      "\n"
     ]
    }
   ],
   "source": [
    "spark.sql(\"SELECT * FROM Suicides\").show()"
   ]
  },
  {
   "cell_type": "code",
   "execution_count": 12,
   "metadata": {
    "colab": {
     "base_uri": "https://localhost:8080/",
     "height": 674
    },
    "id": "SQ7xq6Qx2uvb",
    "outputId": "b0ebb186-e00a-4582-a291-d34e48f2f642"
   },
   "outputs": [
    {
     "name": "stdout",
     "output_type": "stream",
     "text": [
      "+--------------------+--------------+\n",
      "|             country|no_of_suicides|\n",
      "+--------------------+--------------+\n",
      "|  Russian Federation|       1500992|\n",
      "|United States of ...|       1201401|\n",
      "|               Japan|        937614|\n",
      "|              France|        395500|\n",
      "|             Ukraine|        365170|\n",
      "|             Germany|        291262|\n",
      "|   Republic of Korea|        261730|\n",
      "|              Brazil|        250824|\n",
      "|              Poland|        172562|\n",
      "|      United Kingdom|        166314|\n",
      "+--------------------+--------------+\n",
      "only showing top 10 rows\n",
      "\n"
     ]
    },
    {
     "data": {
      "image/png": "[encoded data removed]",
      "text/plain": [
       "<Figure size 432x288 with 1 Axes>"
      ]
     },
     "metadata": {
      "needs_background": "light"
     },
     "output_type": "display_data"
    }
   ],
   "source": [
    "#TOP 10 COUNTRIES WITH THE MOST SUICIDES\n",
    "countries_df = spark.sql(\"SELECT country, SUM(suicides_no) AS no_of_suicides from Suicides GROUP BY country ORDER BY SUM(suicides_no) DESC\")\n",
    "countries_df.show(10)\n",
    "\n",
    "#Bar Chart\n",
    "x = countries_df.toPandas()[\"country\"].values.tolist()[0:10]\n",
    "y = countries_df.toPandas()[\"no_of_suicides\"].values.tolist()[0:10]\n",
    "plt.bar(x,y)\n",
    "plt.xticks(rotation=90)\n",
    "plt.title(\"Top 10 countries with the most suicides\")\n",
    "plt.show()"
   ]
  },
  {
   "cell_type": "code",
   "execution_count": 13,
   "metadata": {
    "colab": {
     "base_uri": "https://localhost:8080/",
     "height": 575
    },
    "id": "euGdmPMf2u8R",
    "outputId": "72b1faa7-36dd-4e8c-e139-f35d9c81a31e"
   },
   "outputs": [
    {
     "name": "stdout",
     "output_type": "stream",
     "text": [
      "+----+--------------+\n",
      "|year|no_of_suicides|\n",
      "+----+--------------+\n",
      "|2002|        259376|\n",
      "|2003|        259336|\n",
      "|1999|        258989|\n",
      "|2000|        258808|\n",
      "|2001|        254036|\n",
      "|1998|        252324|\n",
      "|1996|        249451|\n",
      "|2009|        246323|\n",
      "|1995|        245203|\n",
      "|2004|        244196|\n",
      "+----+--------------+\n",
      "only showing top 10 rows\n",
      "\n"
     ]
    },
    {
     "data": {
      "image/png": "[encoded data removed]",
      "text/plain": [
       "<Figure size 432x288 with 1 Axes>"
      ]
     },
     "metadata": {
      "needs_background": "light"
     },
     "output_type": "display_data"
    }
   ],
   "source": [
    "#TOP 10 YEARS WITH THE MOST SUICIDES\n",
    "years_df = spark.sql(\"SELECT year, SUM(suicides_no) AS no_of_suicides from Suicides GROUP BY year ORDER BY SUM(suicides_no) DESC\")\n",
    "years_df.show(10)\n",
    "\n",
    "#Bar Chart\n",
    "x = years_df.toPandas()[\"year\"].values.tolist()\n",
    "y = years_df.toPandas()[\"no_of_suicides\"].values.tolist()\n",
    "plt.bar(x,y)\n",
    "plt.xticks(rotation=90)\n",
    "plt.title(\"Years vs No of Suicides\")\n",
    "plt.show()\n"
   ]
  },
  {
   "cell_type": "code",
   "execution_count": 14,
   "metadata": {
    "colab": {
     "base_uri": "https://localhost:8080/"
    },
    "id": "vTWZ4SOLTj5y",
    "outputId": "7226b65b-fc7b-4857-9afa-e5649122b751"
   },
   "outputs": [
    {
     "name": "stdout",
     "output_type": "stream",
     "text": [
      "+--------------------+----+--------------+\n",
      "|             country|year|no_of_suicides|\n",
      "+--------------------+----+--------------+\n",
      "|  Russian Federation|2002|         55024|\n",
      "|United States of ...|2002|         31645|\n",
      "|               Japan|2002|         29715|\n",
      "|             Ukraine|2002|         12536|\n",
      "|             Germany|2002|         11176|\n",
      "+--------------------+----+--------------+\n",
      "only showing top 5 rows\n",
      "\n"
     ]
    }
   ],
   "source": [
    "#TOP 5 COUNTRIES WITH MOST SUICIDES IN 2002\n",
    "spark.sql(\"\"\"\n",
    "SELECT country, year, SUM(suicides_no) AS no_of_suicides from Suicides \n",
    "WHERE year = 2002\n",
    "GROUP BY country, year \n",
    "ORDER BY SUM(suicides_no) DESC\"\"\").show(5)"
   ]
  },
  {
   "cell_type": "code",
   "execution_count": 15,
   "metadata": {
    "colab": {
     "base_uri": "https://localhost:8080/",
     "height": 385
    },
    "id": "UQnnWJOZNgUX",
    "outputId": "0642f968-35e3-4d75-ef0f-87f2366cdf2a"
   },
   "outputs": [
    {
     "name": "stdout",
     "output_type": "stream",
     "text": [
      "+------+--------------+\n",
      "|   sex|no_of_suicides|\n",
      "+------+--------------+\n",
      "|  male|       6104173|\n",
      "|female|       1894294|\n",
      "+------+--------------+\n",
      "\n"
     ]
    },
    {
     "data": {
      "image/png": "[encoded data removed]",
      "text/plain": [
       "<Figure size 432x288 with 1 Axes>"
      ]
     },
     "metadata": {},
     "output_type": "display_data"
    }
   ],
   "source": [
    "#TOTAL NUMBER OF SUICIDES SEX WISE\n",
    "sex_df = spark.sql(\"SELECT sex, SUM(suicides_no) AS no_of_suicides from Suicides GROUP BY sex ORDER BY SUM(suicides_no) DESC\")\n",
    "sex_df.show()\n",
    "\n",
    "#Pie Chart\n",
    "x = sex_df.toPandas()[\"sex\"].values.tolist()\n",
    "y = sex_df.toPandas()[\"no_of_suicides\"].values.tolist()\n",
    "plt.pie(y, labels = x)\n",
    "plt.title(\"Male vs Female\")\n",
    "plt.show()\n"
   ]
  },
  {
   "cell_type": "code",
   "execution_count": 16,
   "metadata": {
    "colab": {
     "base_uri": "https://localhost:8080/"
    },
    "id": "kKXVJp42NgmA",
    "outputId": "e308cecf-3244-495a-a136-580fab1157de"
   },
   "outputs": [
    {
     "name": "stdout",
     "output_type": "stream",
     "text": [
      "+--------------------+----+--------------+\n",
      "|             country| sex|no_of_suicides|\n",
      "+--------------------+----+--------------+\n",
      "|  Russian Federation|male|       1221474|\n",
      "|United States of ...|male|        947792|\n",
      "|               Japan|male|        639281|\n",
      "|             Ukraine|male|        293561|\n",
      "|              France|male|        286881|\n",
      "+--------------------+----+--------------+\n",
      "only showing top 5 rows\n",
      "\n"
     ]
    }
   ],
   "source": [
    "#TOP 5 COUNTRIES WHERE MALES DIED FROM SUICIDE\n",
    "spark.sql(\"\"\"SELECT country, sex, SUM(suicides_no) AS no_of_suicides from Suicides \n",
    "WHERE sex = \"male\" \n",
    "GROUP BY country, sex\n",
    "ORDER BY SUM(suicides_no) DESC\"\"\").show(5)"
   ]
  },
  {
   "cell_type": "code",
   "execution_count": 17,
   "metadata": {
    "colab": {
     "base_uri": "https://localhost:8080/"
    },
    "id": "GfeqooiKclY4",
    "outputId": "065a259e-8602-4861-805f-254911f09f55"
   },
   "outputs": [
    {
     "name": "stdout",
     "output_type": "stream",
     "text": [
      "+--------------------+------+--------------+\n",
      "|             country|   sex|no_of_suicides|\n",
      "+--------------------+------+--------------+\n",
      "|               Japan|female|        298333|\n",
      "|  Russian Federation|female|        279518|\n",
      "|United States of ...|female|        253609|\n",
      "|              France|female|        108619|\n",
      "|   Republic of Korea|female|         82615|\n",
      "+--------------------+------+--------------+\n",
      "only showing top 5 rows\n",
      "\n"
     ]
    }
   ],
   "source": [
    "#TOP 5 COUNTRIES WHERE FEMALES DIED FROM SUICIDE\n",
    "spark.sql(\"\"\"SELECT country, sex, SUM(suicides_no) AS no_of_suicides from Suicides \n",
    "WHERE sex = \"female\" \n",
    "GROUP BY country, sex\n",
    "ORDER BY SUM(suicides_no) DESC\"\"\").show(5)"
   ]
  },
  {
   "cell_type": "code",
   "execution_count": 18,
   "metadata": {
    "colab": {
     "base_uri": "https://localhost:8080/",
     "height": 522
    },
    "id": "hk1-xtyiNg1z",
    "outputId": "999dee34-1e6e-4159-9631-98446bc808bb"
   },
   "outputs": [
    {
     "name": "stdout",
     "output_type": "stream",
     "text": [
      "+-----------+--------------+\n",
      "|        age|no_of_suicides|\n",
      "+-----------+--------------+\n",
      "| 5-14 years|         62320|\n",
      "|  75+ years|        756777|\n",
      "|15-24 years|        975700|\n",
      "|25-34 years|       1360780|\n",
      "|55-74 years|       1955150|\n",
      "|35-54 years|       2887740|\n",
      "+-----------+--------------+\n",
      "\n"
     ]
    },
    {
     "data": {
      "image/png": "[encoded data removed]",
      "text/plain": [
       "<Figure size 432x288 with 1 Axes>"
      ]
     },
     "metadata": {
      "needs_background": "light"
     },
     "output_type": "display_data"
    }
   ],
   "source": [
    "#MOST NUMBER OF SUICIDES BY AGE\n",
    "age_df = spark.sql(\"SELECT age, SUM(suicides_no) AS no_of_suicides from Suicides GROUP BY age ORDER BY SUM(suicides_no) ASC\")\n",
    "age_df.show()\n",
    "\n",
    "#Bar Chart\n",
    "x = age_df.toPandas()[\"age\"].values.tolist()\n",
    "y = age_df.toPandas()[\"no_of_suicides\"].values.tolist()\n",
    "plt.bar(x,y)\n",
    "plt.xticks(rotation=90)\n",
    "plt.title(\"Age Range vs No of Suicides\")\n",
    "plt.show()\n"
   ]
  },
  {
   "cell_type": "code",
   "execution_count": 19,
   "metadata": {
    "colab": {
     "base_uri": "https://localhost:8080/",
     "height": 644
    },
    "id": "Tl0H0vZ2WoXM",
    "outputId": "e45e996b-948a-46f7-cfc7-a4f59987a8e7"
   },
   "outputs": [
    {
     "name": "stdout",
     "output_type": "stream",
     "text": [
      "+------------------+----------------+---------------+--------------------+\n",
      "|           country|sum(suicides_no)|sum(population)|               ratio|\n",
      "+------------------+----------------+---------------+--------------------+\n",
      "|         Lithuania|           42166|      108421714|3.889073364031120...|\n",
      "|           Hungary|          130018|      368771868|3.525702779475575E-4|\n",
      "|Russian Federation|         1500992|     4607764120|3.257527861473951E-4|\n",
      "|         Sri Lanka|           80747|      248810626|3.245319594991895...|\n",
      "|            Latvia|           24861|       80935340|3.071711319183931E-4|\n",
      "|           Estonia|           12671|       44051596|2.876399756322109...|\n",
      "|           Belarus|           74974|      261558592|2.866432313567431...|\n",
      "|          Slovenia|           16805|       58977219|2.849405293253993...|\n",
      "|        Kazakhstan|          123151|      475772169|2.588444806657028E-4|\n",
      "|           Ukraine|          365170|     1474109284|2.477224748283995E-4|\n",
      "+------------------+----------------+---------------+--------------------+\n",
      "only showing top 10 rows\n",
      "\n"
     ]
    },
    {
     "data": {
      "image/png": "[encoded data removed]",
      "text/plain": [
       "<Figure size 432x288 with 1 Axes>"
      ]
     },
     "metadata": {
      "needs_background": "light"
     },
     "output_type": "display_data"
    }
   ],
   "source": [
    "#TOP 10 COUNTRIES WITH THE MOST (NO OF SUICIDES/POPULATION) INDEX\n",
    "index_df = spark.sql(\"SELECT country, SUM(suicides_no), SUM(population), SUM(suicides_no)/SUM(population) AS ratio from Suicides GROUP BY country ORDER BY SUM(suicides_no)/SUM(population) DESC\")\n",
    "index_df.show(10)\n",
    "\n",
    "#Bar Chart\n",
    "x = index_df.toPandas()[\"country\"].values.tolist()[0:10]\n",
    "y = index_df.toPandas()[\"ratio\"].values.tolist()[0:10]\n",
    "plt.bar(x,y)\n",
    "plt.xticks(rotation=90)\n",
    "plt.title(\"TOP 10 COUNTRIES WITH THE MOST (NO OF SUICIDES/POPULATION) INDEX\")\n",
    "plt.show()\n"
   ]
  },
  {
   "cell_type": "code",
   "execution_count": 20,
   "metadata": {
    "colab": {
     "base_uri": "https://localhost:8080/"
    },
    "id": "ENgIvIreWonC",
    "outputId": "3e8df753-6d97-4c81-cae0-03f4e938aa7d"
   },
   "outputs": [
    {
     "name": "stdout",
     "output_type": "stream",
     "text": [
      "+---------+--------------+\n",
      "|  country|no_of_suicides|\n",
      "+---------+--------------+\n",
      "|Australia|         80279|\n",
      "+---------+--------------+\n",
      "\n"
     ]
    }
   ],
   "source": [
    "#NO OF SUICIDES IN AUSTRALIA\n",
    "spark.sql(\"\"\"SELECT country, SUM(suicides_no) as no_of_suicides \n",
    "FROM Suicides \n",
    "WHERE country = \"Australia\"\n",
    "GROUP BY country \"\"\").show()"
   ]
  }
 ],
 "metadata": {
  "colab": {
   "collapsed_sections": [],
   "provenance": []
  },
  "kernelspec": {
   "display_name": "Python 3",
   "language": "python",
   "name": "python3"
  },
  "language_info": {
   "codemirror_mode": {
    "name": "ipython",
    "version": 3
   },
   "file_extension": ".py",
   "mimetype": "text/x-python",
   "name": "python",
   "nbconvert_exporter": "python",
   "pygments_lexer": "ipython3",
   "version": "3.8.6"
  }
 },
 "nbformat": 4,
 "nbformat_minor": 1
}
